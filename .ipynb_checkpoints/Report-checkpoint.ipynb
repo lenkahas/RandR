{
 "cells": [
  {
   "cell_type": "markdown",
   "id": "constitutional-helen",
   "metadata": {},
   "source": [
    "# Report\n",
    "\n",
    "## Reproducibility & Reblicability survey 2021,  School of Geographical sciences\n",
    "\n",
    "Contact email: lenka.hasova@bristol.ac.uk\n",
    "\n",
    "Link to data:\n",
    "\n",
    "Link to survey:"
   ]
  },
  {
   "cell_type": "markdown",
   "id": "macro-distance",
   "metadata": {},
   "source": [
    "## About\n",
    "\n",
    "This is an informal sheet describing the "
   ]
  },
  {
   "cell_type": "code",
   "execution_count": null,
   "id": "excellent-burning",
   "metadata": {},
   "outputs": [],
   "source": []
  }
 ],
 "metadata": {
  "kernelspec": {
   "display_name": "Python 3",
   "language": "python",
   "name": "python3"
  },
  "language_info": {
   "codemirror_mode": {
    "name": "ipython",
    "version": 3
   },
   "file_extension": ".py",
   "mimetype": "text/x-python",
   "name": "python",
   "nbconvert_exporter": "python",
   "pygments_lexer": "ipython3",
   "version": "3.9.2"
  }
 },
 "nbformat": 4,
 "nbformat_minor": 5
}
