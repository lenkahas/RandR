{
 "cells": [
  {
   "cell_type": "markdown",
   "id": "excess-casino",
   "metadata": {},
   "source": [
    "# Report\n",
    "\n",
    "## Reproducibility & Reblicability survey 2021\n",
    "## School of Geographical sciences \n",
    "## University of Bristol\n",
    "\n",
    "Contact email: lenka.hasova@bristol.ac.uk\n",
    "\n",
    "Link to data:\n",
    "\n",
    "Link to survey: [Link](https://forms.gle/KYTHQFmccKwJqGyZA)"
   ]
  },
  {
   "cell_type": "markdown",
   "id": "formal-borough",
   "metadata": {},
   "source": [
    "## About\n",
    "\n",
    "This is an informal sheet describing the "
   ]
  },
  {
   "cell_type": "markdown",
   "id": "pacific-pearl",
   "metadata": {},
   "source": [
    "## Respondents\n",
    "\n",
    "We have collected 70 responses within the school of Geographical sciences\n",
    "\n",
    "![png]('./reproducibility_7_0.png')\n",
    "\n",
    "![png]('./reproducibility_8_0.png')"
   ]
  },
  {
   "cell_type": "markdown",
   "id": "static-culture",
   "metadata": {},
   "source": [
    "## Question 1 \n",
    "\n",
    "![png]('./reproducibility_10_0.png')\n",
    "\n",
    "\n",
    "| HG                                     | PG                                     |\n",
    "|----------------------------------------|----------------------------------------|\n",
    "|  ![png]('./reproducibility_12_0.png')  |   ![png]('./reproducibility_13_0.png') |\n"
   ]
  },
  {
   "cell_type": "markdown",
   "id": "external-minnesota",
   "metadata": {},
   "source": [
    "## Question 2\n",
    "\n",
    "![png]('./reproducibility_15_0.png')\n",
    "\n",
    "![png]('./reproducibility_17_0.png')\n",
    "\n",
    "![png]('./reproducibility_18_0.png')\n"
   ]
  },
  {
   "cell_type": "markdown",
   "id": "wrapped-aquatic",
   "metadata": {},
   "source": [
    "## Question 3\n",
    "\n",
    "![png]('./reproducibility_28_0.png')\n"
   ]
  },
  {
   "cell_type": "markdown",
   "id": "indirect-number",
   "metadata": {},
   "source": [
    "## Question 4\n",
    "\n",
    "![png]('./reproducibility_35_0.png')\n"
   ]
  },
  {
   "cell_type": "code",
   "execution_count": 1,
   "id": "listed-banking",
   "metadata": {},
   "outputs": [
    {
     "name": "stderr",
     "output_type": "stream",
     "text": [
      "[NbConvertApp] Converting notebook Report.ipynb to markdown\n",
      "[NbConvertApp] Writing 1036 bytes to Report.md\n",
      "[NbConvertApp] Converting notebook reproducibility.ipynb to markdown\n",
      "[NbConvertApp] Support files will be in reproducibility_files\\\n",
      "[NbConvertApp] Making directory reproducibility_files\n",
      "[NbConvertApp] Making directory reproducibility_files\n",
      "[NbConvertApp] Making directory reproducibility_files\n",
      "[NbConvertApp] Making directory reproducibility_files\n",
      "[NbConvertApp] Making directory reproducibility_files\n",
      "[NbConvertApp] Making directory reproducibility_files\n",
      "[NbConvertApp] Making directory reproducibility_files\n",
      "[NbConvertApp] Making directory reproducibility_files\n",
      "[NbConvertApp] Making directory reproducibility_files\n",
      "[NbConvertApp] Making directory reproducibility_files\n",
      "[NbConvertApp] Making directory reproducibility_files\n",
      "[NbConvertApp] Writing 43909 bytes to reproducibility.md\n"
     ]
    }
   ],
   "source": [
    "!jupyter nbconvert --to markdown *.ipynb"
   ]
  },
  {
   "cell_type": "code",
   "execution_count": null,
   "id": "comic-replica",
   "metadata": {},
   "outputs": [],
   "source": []
  }
 ],
 "metadata": {
  "kernelspec": {
   "display_name": "Python 3",
   "language": "python",
   "name": "python3"
  },
  "language_info": {
   "codemirror_mode": {
    "name": "ipython",
    "version": 3
   },
   "file_extension": ".py",
   "mimetype": "text/x-python",
   "name": "python",
   "nbconvert_exporter": "python",
   "pygments_lexer": "ipython3",
   "version": "3.9.2"
  }
 },
 "nbformat": 4,
 "nbformat_minor": 5
}
