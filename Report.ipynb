{
 "cells": [
  {
   "cell_type": "markdown",
   "id": "mediterranean-mixture",
   "metadata": {},
   "source": [
    "# Report\n",
    "\n",
    "## Reproducibility & Reblicability survey 2021\n",
    "## School of Geographical sciences \n",
    "## University of Bristol\n",
    "\n",
    "Contact email: lenka.hasova@bristol.ac.uk\n",
    "\n",
    "Link to data:\n",
    "\n",
    "Link to survey: [Link](https://forms.gle/KYTHQFmccKwJqGyZA)"
   ]
  },
  {
   "cell_type": "markdown",
   "id": "collected-twist",
   "metadata": {},
   "source": [
    "## About\n",
    "\n",
    "This is an informal sheet describing the "
   ]
  },
  {
   "cell_type": "markdown",
   "id": "critical-interstate",
   "metadata": {},
   "source": [
    "## Respondents\n",
    "\n",
    "We have collected 70 responses within the school of Geographical sciences\n",
    "\n",
    "![png]('./RandR/reproducibility_7_0.png')\n",
    "\n",
    "![png]('./RandR/reproducibility_8_0.png')"
   ]
  },
  {
   "cell_type": "markdown",
   "id": "medical-teens",
   "metadata": {},
   "source": [
    "## Question 1 \n",
    "\n",
    "![png]('./RandR/reproducibility_10_0.png')\n",
    "\n",
    "\n",
    "|                                              |                                              |\n",
    "|----------------------------------------------|----------------------------------------------|\n",
    "|  ![png]('./RandR/reproducibility_12_0.png')  |   ![png]('./RandR/reproducibility_13_0.png') |\n"
   ]
  },
  {
   "cell_type": "markdown",
   "id": "expanded-shower",
   "metadata": {},
   "source": [
    "## Question 2\n",
    "\n",
    "![png]('./RandR/reproducibility_15_0.png')\n",
    "\n",
    "![png]('./RandR/reproducibility_17_0.png')\n",
    "\n",
    "![png]('./RandR/reproducibility_18_0.png')\n"
   ]
  },
  {
   "cell_type": "markdown",
   "id": "hundred-guard",
   "metadata": {},
   "source": [
    "## Question 3\n",
    "\n",
    "![png]('./RandR/reproducibility_28_0.png')\n"
   ]
  },
  {
   "cell_type": "markdown",
   "id": "pressed-running",
   "metadata": {},
   "source": [
    "## Question 4\n",
    "\n",
    "![png]('./RandR/reproducibility_35_0.png')\n"
   ]
  },
  {
   "cell_type": "code",
   "execution_count": 3,
   "id": "minus-springfield",
   "metadata": {},
   "outputs": [
    {
     "name": "stderr",
     "output_type": "stream",
     "text": [
      "[NbConvertApp] Converting notebook Report.ipynb to markdown\n",
      "[NbConvertApp] Writing 2120 bytes to Report.md\n",
      "[NbConvertApp] Converting notebook reproducibility.ipynb to markdown\n",
      "[NbConvertApp] Support files will be in reproducibility_files\\\n",
      "[NbConvertApp] Making directory reproducibility_files\n",
      "[NbConvertApp] Making directory reproducibility_files\n",
      "[NbConvertApp] Making directory reproducibility_files\n",
      "[NbConvertApp] Making directory reproducibility_files\n",
      "[NbConvertApp] Making directory reproducibility_files\n",
      "[NbConvertApp] Making directory reproducibility_files\n",
      "[NbConvertApp] Making directory reproducibility_files\n",
      "[NbConvertApp] Making directory reproducibility_files\n",
      "[NbConvertApp] Making directory reproducibility_files\n",
      "[NbConvertApp] Making directory reproducibility_files\n",
      "[NbConvertApp] Making directory reproducibility_files\n",
      "[NbConvertApp] Writing 43909 bytes to reproducibility.md\n"
     ]
    }
   ],
   "source": [
    "!jupyter nbconvert --to markdown *.ipynb"
   ]
  },
  {
   "cell_type": "code",
   "execution_count": null,
   "id": "passing-applicant",
   "metadata": {},
   "outputs": [],
   "source": []
  }
 ],
 "metadata": {
  "kernelspec": {
   "display_name": "Python 3",
   "language": "python",
   "name": "python3"
  },
  "language_info": {
   "codemirror_mode": {
    "name": "ipython",
    "version": 3
   },
   "file_extension": ".py",
   "mimetype": "text/x-python",
   "name": "python",
   "nbconvert_exporter": "python",
   "pygments_lexer": "ipython3",
   "version": "3.9.2"
  }
 },
 "nbformat": 4,
 "nbformat_minor": 5
}
