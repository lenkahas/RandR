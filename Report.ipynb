{
 "cells": [
  {
   "cell_type": "markdown",
   "id": "packed-geology",
   "metadata": {},
   "source": [
    "# Report\n",
    "\n",
    "## Reproducibility & Reblicability survey 2021\n",
    "## School of Geographical sciences \n",
    "## University of Bristol\n",
    "\n",
    "Contact email: lenka.hasova@bristol.ac.uk\n",
    "\n",
    "Link to data (within this repository): [Reproducibility survey (Responses).csv](https://github.com/lenkahas/RandR/blob/main/Reproducibility%20survey%20(Responses).csv)\n",
    "\n",
    "Link to survey: [Link](https://forms.gle/KYTHQFmccKwJqGyZA)"
   ]
  },
  {
   "cell_type": "markdown",
   "id": "agreed-wedding",
   "metadata": {},
   "source": [
    "## About\n",
    "\n",
    "This is an informal sheet describing the responses tu R&R survey. The purpose of this is to \n",
    "1. Generate discussion within the Department\n",
    "2. Generate discusion within separate research group\n",
    "3. Inform on the current state of R&R \n",
    "4. Identify biggest blocker of R&R within depatment"
   ]
  },
  {
   "cell_type": "markdown",
   "id": "spiritual-inspection",
   "metadata": {},
   "source": [
    "## Respondents\n",
    "\n",
    "<center><b> Tell us which Geography Branch do you identify with. </b></center>\n",
    "\n",
    "We have collected 70 responses within the school of Geographical sciences. Almost 36% of respondents identify as Human Geographers and 64% as Physical Geographers. \n",
    "\n",
    "<img src=\"https://github.com/lenkahas/RandR/blob/main/resp_1.png\" width=\"850\">\n",
    "\n",
    "Almost 25% of respondents do not identify themselves with particular research group or don't want to disclose this information. Rest of the repondents identify predominantly with Glaciology Centre (20%) or Research Initiative for the Dynamic Global Environment (23%).\n",
    "\n",
    "<img src=\"https://github.com/lenkahas/RandR/blob/main/resp_2.png\" width=\"850\">\n"
   ]
  },
  {
   "cell_type": "markdown",
   "id": "polyphonic-playlist",
   "metadata": {},
   "source": [
    "## Question 1 \n",
    "\n",
    "<center><b> According to you, how important is the Reproducibility and Replicability of Geographical research to ... </b></center>\n",
    "\n",
    "In general, respondents feel that this topic is very important to their own research as well as to ourdepartment and the future of geographical analysis.\n",
    "\n",
    "<img src=\"https://github.com/lenkahas/RandR/blob/main/Q1_a.png\" width=\"850\">\n",
    "\n",
    "\n",
    "However, there is a clear distinction between Human geographers, who feels that R&R is not as important or moderately important for their own research, and Physical geographers, who feels that R&R is much more important for their own reserach. \n",
    "\n",
    "|               Human Geographers              |            Physical Geographers              |\n",
    "|----------------------------------------------|----------------------------------------------|\n",
    "|  <img src=\"https://github.com/lenkahas/RandR/blob/main/Q1_b.png\" width=\"850\">  |   <img src=\"https://github.com/lenkahas/RandR/blob/main/Q1_c.png\" width=\"850\"> |\n",
    "\n",
    "Here we can clearly see the differnces by each Research Group. While Quantitative Spatial Science and Research Initiative for the Dynamic Global Environment provided more stable answer, where all the domains are important for them, the Historical and Cultural Research Group is the most varied in its responses. For them the R&R is more important for our department than for their own research.\n",
    "\n",
    "| To Your Own research | To Our Department | To future of Geographical Analysis |\n",
    "|---|---|---|\n",
    "| <img src=\"https://github.com/lenkahas/RandR/blob/main/Q1_d.png\" width=\"850\">| <img src=\"https://github.com/lenkahas/RandR/blob/main/Q1_e.png\" width=\"850\">| <img src=\"https://github.com/lenkahas/RandR/blob/main/Q1_f.png\" width=\"850\">|\n"
   ]
  },
  {
   "cell_type": "markdown",
   "id": "pressed-integral",
   "metadata": {},
   "source": [
    "## Question 2\n",
    "\n",
    "<center><b> How much do you consider Reproducibility and Replicability in your own research? </b></center>\n",
    "\n",
    "Most of the respondents (91%) consider the R&R in their research to some, moderate or great extent, while only 8.5% of respondents is less inclined to R&R in their own research.\n",
    "\n",
    "<img src=\"https://github.com/lenkahas/RandR/blob/main/Q2_a.png\" width=\"750\">\n",
    "\n",
    "We can observe clear distinction between the Human and Physical geographers. All of the physical geographers consider R&R in their research at least in ome extent, while this cannot be said about Human geographers.\n",
    "\n",
    "<img src=\"https://github.com/lenkahas/RandR/blob/main/Q2_b.png\" width=\"750\">\n",
    "\n",
    "This correlates also with the responses grouped by a specific Research group. The respondents identifying with Political Economy and Historical and Cultural Research Group are those who considers R&R the least or not at all. \n",
    "\n",
    "<img src=\"https://github.com/lenkahas/RandR/blob/main/Q2_c.png\" width=\"750\">\n",
    "\n"
   ]
  },
  {
   "cell_type": "markdown",
   "id": "adopted-jurisdiction",
   "metadata": {},
   "source": [
    "## Question 3\n",
    "\n",
    "<center><b> Do you publish your code/data/reproducible examples of your research? </b></center>\n",
    "\n",
    "Altough there is a big proportion of people who publish their codes, data or preprints, There is quite few people (34% of all respondents) who does not include the open source practices in their research.\n",
    "\n",
    "<img src=\"https://github.com/lenkahas/RandR/blob/main/Q3_a.png\" width=\"950\">\n",
    "\n",
    "This proportion of respondents that don't include the open source practices in their research is visibly greater in Human Geography. The general open source publishing practices are much more prosent within the Physical Geographers.\n",
    "\n",
    "| Human Geographers|Physical Geographers |\n",
    "|---|---|\n",
    "|<img src=\"https://github.com/lenkahas/RandR/blob/main/Q3_b.png\" width=\"750\">|<img src=\"https://github.com/lenkahas/RandR/blob/main/Q3_c.png\" width=\"750\">|\n",
    "\n",
    "\n",
    "In the category 'Other' can be found those respondents who havent published anything yet, publish with different body than stated (governemt,..), publish on reqest or those for whom publishing is not relevant\n"
   ]
  },
  {
   "cell_type": "markdown",
   "id": "hollywood-aerospace",
   "metadata": {},
   "source": [
    "## Question 4\n",
    "\n",
    "<center><b> Please tell us what restricts you from publishing your code/data/reproducible examples of your research? </b></center>\n",
    "\n",
    "The respondents identified, in general, lack of skills, tools or knowledge and not having enough time as the biggest blockers when it comes to publishing their reseach.\n",
    "\n",
    "<img src=\"https://github.com/lenkahas/RandR/blob/main/Q4_a.png\" width=\"950\">\n",
    "\n",
    "For Human Geographers, however, is also a major problem sensitive data or reserach. In comparison, Physical Geographes identified 'No time' as stronger factor than any other.\n",
    "\n",
    "| Human Geographers|Physical Geographers |\n",
    "|---|---|\n",
    "|<img src=\"https://github.com/lenkahas/RandR/blob/main/Q4_b.png\" width=\"750\">|<img src=\"https://github.com/lenkahas/RandR/blob/main/Q4_c.png\" width=\"750\">|\n",
    "\n",
    "In category 'Other' can be found those respondents for whom publishing is irrelevant or those who are restricted by copyright or temporal scale of the research.\n",
    "\n",
    "\n"
   ]
  },
  {
   "cell_type": "markdown",
   "id": "entertaining-yahoo",
   "metadata": {},
   "source": [
    "## Comments\n",
    "\n",
    "22 respondents commented on this issue. From those, roughly 72% is expresing the importance of R&R and would be happy to attend any curses, seminar or department-wide discussions aiming to increase our knowledge oof this topic. Nevertheless, Rougly 20% respondents that provided comements feels that R&R is not relevnat to their research, there is no need for it or it is simply not suitable for some research designs.\n",
    "\n",
    "Example of some of the comments:\n",
    "\n",
    "> Training on how to do this and what the different options are is needed\n",
    "\n",
    "> R&R is essential, but seems low on the list of many researchers' and institutions' priorities. There are still many analyses that lack a standardised, scientifically-verified best practice procedure, meaning that it can be difficult to even compare results from different field seasons.\\n\\nImproving the conditions of the laboratories (e.g. for the instruments to work more reliably) would help to flatten the baseline of analyses, making it easier to trust in technical replicates. It would also make it more logistically feasible to run multiple analyses and hence to verify conclusions through independent methods. Similarly, buying some communal field equipment (e.g. peristaltic pumps) would make it easier to increase sample size in the field, making it easier to trust in-field replicates.\n",
    "\n",
    "> Never thought about it in these terms before now and don't deem it of significance to what I research or teach. I can see how it might be relevant to some.\n",
    "\n",
    "> I would be very interested in attending R&R workshops. I don't have much experience of how things are done at Bristol, but I have benefited in the past from established data management infrastructure/staff. This has massively helped in collating and publishing data and the organisation of samples.\n",
    "\n",
    "> Would be  good to have a training course. So far everything has been very learning by doing and trial and error with R&R.\n",
    "\n",
    "> I think it is great you are collecting responses on this! A seminar on R&R or perhaps a mini conference (say a half day with lots of short pop up talks and opportunity for breakout groups) on some good practices of R&R across the department would be helpful and inspiring i.e. how are we using github or data archives, who is good to talk to if I am interested in publishing my data? I don't think we place a lot of emphasis on it in the department currently so raising awareness would be a helpful first step.\n",
    "\n",
    "> I have to say it's the first I've come across the terminology. It seems important, even if greased towards more scientific modes of research. I think human geographers could have a fruitful discussion about what it means for them."
   ]
  },
  {
   "cell_type": "code",
   "execution_count": 4,
   "id": "focal-renewal",
   "metadata": {},
   "outputs": [
    {
     "name": "stderr",
     "output_type": "stream",
     "text": [
      "[NbConvertApp] Converting notebook Report.ipynb to markdown\n",
      "[NbConvertApp] Writing 9780 bytes to Report.md\n",
      "[NbConvertApp] Converting notebook reproducibility.ipynb to markdown\n",
      "[NbConvertApp] Support files will be in reproducibility_files\\\n",
      "[NbConvertApp] Making directory reproducibility_files\n",
      "[NbConvertApp] Making directory reproducibility_files\n",
      "[NbConvertApp] Making directory reproducibility_files\n",
      "[NbConvertApp] Making directory reproducibility_files\n",
      "[NbConvertApp] Making directory reproducibility_files\n",
      "[NbConvertApp] Making directory reproducibility_files\n",
      "[NbConvertApp] Making directory reproducibility_files\n",
      "[NbConvertApp] Making directory reproducibility_files\n",
      "[NbConvertApp] Making directory reproducibility_files\n",
      "[NbConvertApp] Making directory reproducibility_files\n",
      "[NbConvertApp] Making directory reproducibility_files\n",
      "[NbConvertApp] Making directory reproducibility_files\n",
      "[NbConvertApp] Making directory reproducibility_files\n",
      "[NbConvertApp] Making directory reproducibility_files\n",
      "[NbConvertApp] Making directory reproducibility_files\n",
      "[NbConvertApp] Making directory reproducibility_files\n",
      "[NbConvertApp] Making directory reproducibility_files\n",
      "[NbConvertApp] Writing 82084 bytes to reproducibility.md\n"
     ]
    }
   ],
   "source": [
    "!jupyter nbconvert --to markdown *.ipynb"
   ]
  },
  {
   "cell_type": "code",
   "execution_count": null,
   "id": "occasional-politics",
   "metadata": {},
   "outputs": [],
   "source": []
  }
 ],
 "metadata": {
  "kernelspec": {
   "display_name": "Python 3",
   "language": "python",
   "name": "python3"
  },
  "language_info": {
   "codemirror_mode": {
    "name": "ipython",
    "version": 3
   },
   "file_extension": ".py",
   "mimetype": "text/x-python",
   "name": "python",
   "nbconvert_exporter": "python",
   "pygments_lexer": "ipython3",
   "version": "3.9.2"
  }
 },
 "nbformat": 4,
 "nbformat_minor": 5
}
